{
 "cells": [
  {
   "cell_type": "code",
   "execution_count": 1,
   "metadata": {
    "id": "E3cGLGocHue8"
   },
   "outputs": [
    {
     "ename": "ModuleNotFoundError",
     "evalue": "No module named 'xgboost'",
     "output_type": "error",
     "traceback": [
      "\u001b[1;31m---------------------------------------------------------------------------\u001b[0m",
      "\u001b[1;31mModuleNotFoundError\u001b[0m                       Traceback (most recent call last)",
      "Cell \u001b[1;32mIn[1], line 9\u001b[0m\n\u001b[0;32m      7\u001b[0m \u001b[38;5;28;01mfrom\u001b[39;00m \u001b[38;5;21;01msklearn\u001b[39;00m \u001b[38;5;28;01mimport\u001b[39;00m metrics\n\u001b[0;32m      8\u001b[0m \u001b[38;5;28;01mfrom\u001b[39;00m \u001b[38;5;21;01msklearn\u001b[39;00m\u001b[38;5;21;01m.\u001b[39;00m\u001b[38;5;21;01msvm\u001b[39;00m \u001b[38;5;28;01mimport\u001b[39;00m SVC\n\u001b[1;32m----> 9\u001b[0m \u001b[38;5;28;01mfrom\u001b[39;00m \u001b[38;5;21;01mxgboost\u001b[39;00m \u001b[38;5;28;01mimport\u001b[39;00m XGBClassifier\n\u001b[0;32m     10\u001b[0m \u001b[38;5;28;01mfrom\u001b[39;00m \u001b[38;5;21;01msklearn\u001b[39;00m\u001b[38;5;21;01m.\u001b[39;00m\u001b[38;5;21;01mlinear_model\u001b[39;00m \u001b[38;5;28;01mimport\u001b[39;00m LogisticRegression\n\u001b[0;32m     11\u001b[0m \u001b[38;5;28;01mfrom\u001b[39;00m \u001b[38;5;21;01mimblearn\u001b[39;00m\u001b[38;5;21;01m.\u001b[39;00m\u001b[38;5;21;01mover_sampling\u001b[39;00m \u001b[38;5;28;01mimport\u001b[39;00m RandomOverSampler\n",
      "\u001b[1;31mModuleNotFoundError\u001b[0m: No module named 'xgboost'"
     ]
    }
   ],
   "source": [
    "import numpy as np\n",
    "import pandas as pd\n",
    "import matplotlib.pyplot as plt\n",
    "import seaborn as sb\n",
    "from sklearn.model_selection import train_test_split\n",
    "from sklearn.preprocessing import LabelEncoder, StandardScaler\n",
    "from sklearn import metrics\n",
    "from sklearn.svm import SVC\n",
    "from xgboost import XGBClassifier\n",
    "from sklearn.linear_model import LogisticRegression\n",
    "from imblearn.over_sampling import RandomOverSampler\n",
    "\n",
    "import warnings\n",
    "warnings.filterwarnings('ignore')"
   ]
  },
  {
   "cell_type": "code",
   "execution_count": null,
   "metadata": {
    "colab": {
     "base_uri": "https://localhost:8080/"
    },
    "id": "NoYrTl7cHz2A",
    "outputId": "1e8e1d08-8e59-4056-850c-8f82915faafe"
   },
   "outputs": [],
   "source": [
    "df = pd.read_csv('C:/my/Notebook/Datasets/train.csv')\n",
    "print(df.head())"
   ]
  },
  {
   "cell_type": "code",
   "execution_count": null,
   "metadata": {
    "colab": {
     "base_uri": "https://localhost:8080/"
    },
    "id": "cmmxAk6SH05r",
    "outputId": "6385628c-7840-439c-e1b5-9bc636d19788"
   },
   "outputs": [],
   "source": [
    "df.shape\n"
   ]
  },
  {
   "cell_type": "code",
   "execution_count": null,
   "metadata": {
    "colab": {
     "base_uri": "https://localhost:8080/"
    },
    "id": "7X1lDC1lIJ2O",
    "outputId": "e942b527-4b9a-4768-9381-ab60dd63ec67"
   },
   "outputs": [],
   "source": [
    "df.info()\n"
   ]
  },
  {
   "cell_type": "code",
   "execution_count": null,
   "metadata": {
    "colab": {
     "base_uri": "https://localhost:8080/",
     "height": 488
    },
    "id": "Ue8z-s_NIKpQ",
    "outputId": "1514831c-e073-4346-fbc9-186fa849fee6"
   },
   "outputs": [],
   "source": [
    "df.describe().T\n"
   ]
  },
  {
   "cell_type": "code",
   "execution_count": null,
   "metadata": {
    "colab": {
     "base_uri": "https://localhost:8080/",
     "height": 492
    },
    "id": "v83kFsTQILug",
    "outputId": "e884688a-cc3e-4895-955c-77d1b7e5f12a"
   },
   "outputs": [],
   "source": [
    "df['ethnicity'].value_counts()\n"
   ]
  },
  {
   "cell_type": "code",
   "execution_count": null,
   "metadata": {
    "colab": {
     "base_uri": "https://localhost:8080/",
     "height": 304
    },
    "id": "B485SFYdIMzg",
    "outputId": "efb1f4c1-8c3f-4fb8-d60d-58eee4e3dca6"
   },
   "outputs": [],
   "source": [
    "df['relation'].value_counts()\n"
   ]
  },
  {
   "cell_type": "code",
   "execution_count": null,
   "metadata": {
    "id": "-1jyyKEfIN7Q"
   },
   "outputs": [],
   "source": [
    "df = df.replace({'yes':1, 'no':0, '?':'Others', 'others':'Others'})\n"
   ]
  },
  {
   "cell_type": "code",
   "execution_count": null,
   "metadata": {
    "colab": {
     "base_uri": "https://localhost:8080/",
     "height": 406
    },
    "id": "ZS1wn6wvIPJq",
    "outputId": "7efa6a19-fba7-4e59-af17-db0e06de87bb"
   },
   "outputs": [],
   "source": [
    "plt.pie(df['Class/ASD'].value_counts().values, autopct='%1.1f%%')\n",
    "plt.show()\n"
   ]
  },
  {
   "cell_type": "code",
   "execution_count": null,
   "metadata": {
    "id": "Wtrs1SkSIQKv"
   },
   "outputs": [],
   "source": [
    "ints = []\n",
    "objects = []\n",
    "floats = []\n",
    "\n",
    "for col in df.columns:\n",
    "  if df[col].dtype == int:\n",
    "    ints.append(col)\n",
    "  elif df[col].dtype == object:\n",
    "    objects.append(col)\n",
    "  else:\n",
    "    floats.append(col)\n"
   ]
  },
  {
   "cell_type": "code",
   "execution_count": null,
   "metadata": {
    "id": "_8HUmuWnIRnR"
   },
   "outputs": [],
   "source": [
    "ints.remove('ID')\n",
    "ints.remove('Class/ASD')\n"
   ]
  },
  {
   "cell_type": "code",
   "execution_count": null,
   "metadata": {
    "colab": {
     "base_uri": "https://localhost:8080/",
     "height": 1000
    },
    "id": "GlWSKWy0JR07",
    "outputId": "566b728b-35dd-41fe-a89e-098c798cf16d"
   },
   "outputs": [],
   "source": [
    "# Convert the data to long-form using melt\n",
    "df_melted = df.melt(id_vars=['ID', 'Class/ASD'], value_vars=ints, var_name='col', value_name='value')\n",
    "\n",
    "plt.subplots(figsize=(15,15))\n",
    "\n",
    "for i, col in enumerate(ints):\n",
    "  plt.subplot(5,3,i+1)\n",
    "  # Use the melted DataFrame and specify x and hue\n",
    "  sb.countplot(x='value', hue='Class/ASD', data=df_melted[df_melted['col'] == col])\n",
    "  plt.title(f'Distribution of {col}')\n",
    "\n",
    "plt.tight_layout()\n",
    "plt.show()"
   ]
  },
  {
   "cell_type": "code",
   "execution_count": null,
   "metadata": {
    "colab": {
     "base_uri": "https://localhost:8080/",
     "height": 1000
    },
    "id": "oj69j1JdPplX",
    "outputId": "968a121f-596f-494e-a04f-faa07a8640ae"
   },
   "outputs": [],
   "source": [
    "\n",
    "plt.subplots(figsize=(15, 15))  # Adjust figure size as needed\n",
    "\n",
    "for i, col in enumerate(objects):\n",
    "    plt.subplot(5, 1, i + 1)  # Adjust subplot grid as needed\n",
    "    sb.countplot(x=col, hue='Class/ASD', data=df)\n",
    "    plt.title(f'Distribution of {col}')\n",
    "    plt.xticks(rotation=45, ha='right') # Rotates x-axis labels for better readability\n",
    "\n",
    "plt.tight_layout()\n",
    "plt.show()\n"
   ]
  },
  {
   "cell_type": "code",
   "execution_count": null,
   "metadata": {
    "colab": {
     "base_uri": "https://localhost:8080/",
     "height": 600
    },
    "id": "LqgkwS4ZIVVB",
    "outputId": "44cbf944-89b3-46ac-f687-f8cb2c0befe1"
   },
   "outputs": [],
   "source": [
    "plt.figure(figsize=(15,5))\n",
    "sb.countplot(data=df, x='contry_of_res', hue='Class/ASD')\n",
    "plt.xticks(rotation=90)\n",
    "plt.show()\n"
   ]
  },
  {
   "cell_type": "code",
   "execution_count": null,
   "metadata": {
    "colab": {
     "base_uri": "https://localhost:8080/",
     "height": 480
    },
    "id": "6vUzjCceIW49",
    "outputId": "77aff49b-4286-40fa-9a9c-395bb98b5787"
   },
   "outputs": [],
   "source": [
    "plt.subplots(figsize=(15,5))\n",
    "\n",
    "for i, col in enumerate(floats):\n",
    "  plt.subplot(1,2,i+1)\n",
    "  sb.distplot(df[col])\n",
    "plt.tight_layout()\n",
    "plt.show()\n"
   ]
  },
  {
   "cell_type": "code",
   "execution_count": null,
   "metadata": {
    "colab": {
     "base_uri": "https://localhost:8080/",
     "height": 502
    },
    "id": "0q1DLFhVIYdb",
    "outputId": "62a37de9-e381-4b37-d28d-0b8d7f6d2ab3"
   },
   "outputs": [],
   "source": [
    "plt.subplots(figsize=(15,5))\n",
    "\n",
    "for i, col in enumerate(floats):\n",
    "  plt.subplot(1,2,i+1)\n",
    "  sb.boxplot(df[col])\n",
    "plt.tight_layout()\n",
    "plt.show()\n"
   ]
  },
  {
   "cell_type": "code",
   "execution_count": null,
   "metadata": {
    "colab": {
     "base_uri": "https://localhost:8080/"
    },
    "id": "1n9baV4AIZwL",
    "outputId": "7b53d059-ad0e-4e82-ed67-57b3aa97738c"
   },
   "outputs": [],
   "source": [
    "df = df[df['result']>-5]\n",
    "df.shape\n"
   ]
  },
  {
   "cell_type": "code",
   "execution_count": null,
   "metadata": {
    "id": "XZ9kZWf_IbHK"
   },
   "outputs": [],
   "source": [
    "# This functions make groups by taking\n",
    "# the age as a parameter\n",
    "def convertAge(age):\n",
    "    if age < 4:\n",
    "        return 'Toddler'\n",
    "    elif age < 12:\n",
    "        return 'Kid'\n",
    "    elif age < 18:\n",
    "        return 'Teenager'\n",
    "    elif age < 40:\n",
    "        return 'Young'\n",
    "    else:\n",
    "        return 'Senior'\n",
    "\n",
    "df['ageGroup'] = df['age'].apply(convertAge)\n"
   ]
  },
  {
   "cell_type": "code",
   "execution_count": null,
   "metadata": {
    "colab": {
     "base_uri": "https://localhost:8080/",
     "height": 449
    },
    "id": "AujgnqnyIcp_",
    "outputId": "cbe89407-c6e8-4741-924e-c98d234ef17d"
   },
   "outputs": [],
   "source": [
    "sb.countplot(x=df['ageGroup'], hue=df['Class/ASD'])\n",
    "plt.show()\n"
   ]
  },
  {
   "cell_type": "code",
   "execution_count": null,
   "metadata": {
    "id": "fso8ebz4Idut"
   },
   "outputs": [],
   "source": [
    "def add_feature(data):\n",
    "\n",
    "  # Creating a column with all values zero\n",
    "  data['sum_score'] = 0\n",
    "  for col in data.loc[:,'A1_Score':'A10_Score'].columns:\n",
    "\n",
    "    # Updating the 'sum_score' value with scores\n",
    "    # from A1 to A10\n",
    "    data['sum_score'] += data[col]\n",
    "\n",
    "  # Creating a random data using the below three columns\n",
    "  data['ind'] = data['austim'] + data['used_app_before'] + data['jaundice']\n",
    "\n",
    "  return data\n",
    "\n",
    "df = add_feature(df)\n"
   ]
  },
  {
   "cell_type": "code",
   "execution_count": null,
   "metadata": {
    "colab": {
     "base_uri": "https://localhost:8080/",
     "height": 449
    },
    "id": "G1oN8YTxIe_d",
    "outputId": "27e8dde1-00c3-471e-da54-5cc90c4af364"
   },
   "outputs": [],
   "source": [
    "sb.countplot(x=df['sum_score'], hue=df['Class/ASD'])\n",
    "plt.show()\n"
   ]
  },
  {
   "cell_type": "code",
   "execution_count": null,
   "metadata": {
    "id": "gDTluzi1IgMV"
   },
   "outputs": [],
   "source": [
    "# Applying log transformations to remove the skewness of the data.\n",
    "df['age'] = df['age'].apply(lambda x: np.log(x))\n"
   ]
  },
  {
   "cell_type": "code",
   "execution_count": null,
   "metadata": {
    "colab": {
     "base_uri": "https://localhost:8080/",
     "height": 449
    },
    "id": "I-R5AlKSIhWy",
    "outputId": "01a4b9a0-7f1f-4019-c9b1-b5f6a7574379"
   },
   "outputs": [],
   "source": [
    "sb.distplot(df['age'])\n",
    "plt.show()\n"
   ]
  },
  {
   "cell_type": "code",
   "execution_count": null,
   "metadata": {
    "colab": {
     "base_uri": "https://localhost:8080/",
     "height": 935
    },
    "id": "QB2QnUWSIiQ9",
    "outputId": "d0b03fee-0a11-440d-d724-83b53723b3b0"
   },
   "outputs": [],
   "source": [
    "def encode_labels(data):\n",
    "    for col in data.columns:\n",
    "\n",
    "      # Here we will check if datatype\n",
    "      # is object then we will encode it\n",
    "      if data[col].dtype == 'object':\n",
    "        le = LabelEncoder()\n",
    "        data[col] = le.fit_transform(data[col])\n",
    "\n",
    "    return data\n",
    "\n",
    "df = encode_labels(df)\n",
    "\n",
    "# Making a heatmap to visualize the correlation matrix\n",
    "plt.figure(figsize=(10,10))\n",
    "sb.heatmap(df.corr() > 0.8, annot=True, cbar=False)\n",
    "plt.show()\n"
   ]
  },
  {
   "cell_type": "code",
   "execution_count": null,
   "metadata": {
    "id": "FbVG-30wIjas"
   },
   "outputs": [],
   "source": [
    "removal = ['ID', 'age_desc', 'used_app_before', 'austim']\n",
    "features = df.drop(removal + ['Class/ASD'], axis=1)\n",
    "target = df['Class/ASD']\n"
   ]
  },
  {
   "cell_type": "code",
   "execution_count": null,
   "metadata": {
    "colab": {
     "base_uri": "https://localhost:8080/"
    },
    "id": "oibiPTiTIk5H",
    "outputId": "072db086-044e-4649-acfd-d686cb841ba6"
   },
   "outputs": [],
   "source": [
    "X_train, X_val, Y_train, Y_val = train_test_split(features, target, test_size = 0.2, random_state=10)\n",
    "\n",
    "# As the data was highly imbalanced we will balance it by adding repetitive rows of minority class.\n",
    "ros = RandomOverSampler(sampling_strategy='minority',random_state=0)\n",
    "X, Y = ros.fit_resample(X_train,Y_train)\n",
    "X.shape, Y.shape\n"
   ]
  },
  {
   "cell_type": "code",
   "execution_count": null,
   "metadata": {
    "id": "biU0aEU6ImWD"
   },
   "outputs": [],
   "source": [
    "# Normalizing the features for stable and fast training.\n",
    "scaler = StandardScaler()\n",
    "X = scaler.fit_transform(X)\n",
    "X_val = scaler.transform(X_val)\n"
   ]
  },
  {
   "cell_type": "code",
   "execution_count": null,
   "metadata": {
    "colab": {
     "base_uri": "https://localhost:8080/"
    },
    "id": "SRUr4237Inbn",
    "outputId": "0197b521-49a4-4e8b-ec3a-723e70775950"
   },
   "outputs": [],
   "source": [
    "models = [LogisticRegression(), XGBClassifier(), SVC(kernel='rbf')]\n",
    "\n",
    "for model in models:\n",
    "  model.fit(X, Y)\n",
    "\n",
    "  print(f'{model} : ')\n",
    "  print('Training Accuracy : ', metrics.roc_auc_score(Y, model.predict(X)))\n",
    "  print('Validation Accuracy : ', metrics.roc_auc_score(Y_val, model.predict(X_val)))\n",
    "  print()\n"
   ]
  },
  {
   "cell_type": "code",
   "execution_count": null,
   "metadata": {
    "colab": {
     "base_uri": "https://localhost:8080/",
     "height": 451
    },
    "id": "5xfGWZbgK05Y",
    "outputId": "5b383aff-1298-4ac4-f30c-70c924b20485"
   },
   "outputs": [],
   "source": [
    "from sklearn.metrics import ConfusionMatrixDisplay\n",
    "\n",
    "ConfusionMatrixDisplay.from_estimator(models[0], X_val, Y_val)\n",
    "plt.show()"
   ]
  },
  {
   "cell_type": "code",
   "execution_count": null,
   "metadata": {
    "id": "2wivrMxONFGP"
   },
   "outputs": [],
   "source": []
  }
 ],
 "metadata": {
  "colab": {
   "provenance": []
  },
  "kernelspec": {
   "display_name": "Python [conda env:base] *",
   "language": "python",
   "name": "conda-base-py"
  },
  "language_info": {
   "codemirror_mode": {
    "name": "ipython",
    "version": 3
   },
   "file_extension": ".py",
   "mimetype": "text/x-python",
   "name": "python",
   "nbconvert_exporter": "python",
   "pygments_lexer": "ipython3",
   "version": "3.12.7"
  }
 },
 "nbformat": 4,
 "nbformat_minor": 4
}
